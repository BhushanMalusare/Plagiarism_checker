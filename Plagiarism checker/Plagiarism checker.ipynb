{
 "cells": [
  {
   "cell_type": "code",
   "execution_count": 1,
   "metadata": {},
   "outputs": [],
   "source": [
    "import os\n",
    "from sklearn.feature_extraction.text import TfidfVectorizer"
   ]
  },
  {
   "cell_type": "code",
   "execution_count": 2,
   "metadata": {},
   "outputs": [],
   "source": [
    "from sklearn.metrics.pairwise import cosine_similarity"
   ]
  },
  {
   "cell_type": "code",
   "execution_count": 3,
   "metadata": {},
   "outputs": [],
   "source": [
    "student_files = [doc for doc in os.listdir() if doc.endswith('.txt')]"
   ]
  },
  {
   "cell_type": "code",
   "execution_count": 4,
   "metadata": {},
   "outputs": [
    {
     "data": {
      "text/plain": [
       "['Sample 1.txt', 'Sample 2.txt', 'sample 3.txt', 'sample 4.txt']"
      ]
     },
     "execution_count": 4,
     "metadata": {},
     "output_type": "execute_result"
    }
   ],
   "source": [
    "student_files"
   ]
  },
  {
   "cell_type": "code",
   "execution_count": 5,
   "metadata": {},
   "outputs": [],
   "source": [
    "student_notes = [open(_file,encoding = 'utf-8').read() for _file in student_files]"
   ]
  },
  {
   "cell_type": "code",
   "execution_count": 6,
   "metadata": {},
   "outputs": [
    {
     "data": {
      "text/plain": [
       "['In a quaint little town nestled amidst rolling hills and lush greenery, life unfolds at a tranquil pace. The scent of freshly bloomed flowers drifts through the air, dancing playfully with the gentle breeze. Friendly faces line the streets, exchanging warm smiles and heartfelt greetings, creating an atmosphere of belonging and unity. With quaint shops and cozy cafes dotting the landscape, the town exudes a sense of nostalgia, where time seems to slow down, inviting residents and visitors alike to savor each moment. As the sun sets, casting a golden glow over the horizon, the community gathers in the central square, embracing the joy of togetherness and celebrating the simple pleasures that make this charming town a true haven of contentment.',\n",
       " 'My name is Bhushan and I am 4th year IT engineering student. ',\n",
       " 'In a quaint little town nestled amidst rolling hills and lush greenery, life unfolds at a tranquil pace. The scent of freshly bloomed flowers drifts through the air, dancing playfully with the gentle breeze. Friendly faces line the streets, exchanging warm smiles and heartfelt greetings, creating an atmosphere of belonging and unity. With quaint shops and cozy cafes dotting the landscape, the town exudes a sense of nostalgia, where time seems to slow down, inviting residents and visitors alike to savor each moment. As the sun sets, casting a golden glow over the horizon, the community gathers in the central square, embracing the joy of togetherness and celebrating the simple pleasures that make this charming town a true haven of contentment.',\n",
       " 'Machine learning and AI is on a rise and every IT engineering student must study it.']"
      ]
     },
     "execution_count": 6,
     "metadata": {},
     "output_type": "execute_result"
    }
   ],
   "source": [
    "student_notes"
   ]
  },
  {
   "cell_type": "code",
   "execution_count": 8,
   "metadata": {},
   "outputs": [],
   "source": [
    "def vectorize(text):\n",
    "    return TfidfVectorizer().fit_transform(text).toarray()"
   ]
  },
  {
   "cell_type": "code",
   "execution_count": 9,
   "metadata": {},
   "outputs": [],
   "source": [
    "def similarity(doc1,doc2):\n",
    "    return cosine_similarity([doc1,doc2])"
   ]
  },
  {
   "cell_type": "code",
   "execution_count": 10,
   "metadata": {},
   "outputs": [],
   "source": [
    "vectors = vectorize(student_notes)"
   ]
  },
  {
   "cell_type": "code",
   "execution_count": 11,
   "metadata": {},
   "outputs": [
    {
     "data": {
      "text/plain": [
       "array([[0.        , 0.        , 0.05854348, 0.05854348, 0.        ,\n",
       "        0.05854348, 0.05854348, 0.23249598, 0.05854348, 0.05854348,\n",
       "        0.05854348, 0.05854348, 0.        , 0.05854348, 0.05854348,\n",
       "        0.05854348, 0.05854348, 0.05854348, 0.05854348, 0.05854348,\n",
       "        0.05854348, 0.05854348, 0.05854348, 0.05854348, 0.05854348,\n",
       "        0.05854348, 0.05854348, 0.05854348, 0.05854348, 0.05854348,\n",
       "        0.        , 0.        , 0.05854348, 0.05854348, 0.05854348,\n",
       "        0.05854348, 0.05854348, 0.05854348, 0.05854348, 0.05854348,\n",
       "        0.05854348, 0.05854348, 0.05854348, 0.05854348, 0.05854348,\n",
       "        0.05854348, 0.05854348, 0.05854348, 0.11708696, 0.05854348,\n",
       "        0.        , 0.        , 0.05854348, 0.05854348, 0.        ,\n",
       "        0.05854348, 0.05854348, 0.05854348, 0.05854348, 0.        ,\n",
       "        0.05854348, 0.05854348, 0.        , 0.        , 0.        ,\n",
       "        0.05854348, 0.05854348, 0.29271741, 0.        , 0.05854348,\n",
       "        0.05854348, 0.05854348, 0.05854348, 0.11708696, 0.05854348,\n",
       "        0.        , 0.05854348, 0.05854348, 0.05854348, 0.05854348,\n",
       "        0.05854348, 0.05854348, 0.05854348, 0.05854348, 0.05854348,\n",
       "        0.05854348, 0.05854348, 0.05854348, 0.        , 0.        ,\n",
       "        0.05854348, 0.05854348, 0.70252177, 0.05854348, 0.05854348,\n",
       "        0.05854348, 0.11708696, 0.05854348, 0.17563044, 0.05854348,\n",
       "        0.05854348, 0.05854348, 0.05854348, 0.05854348, 0.05854348,\n",
       "        0.05854348, 0.11708696, 0.        ],\n",
       "       [0.33789397, 0.        , 0.        , 0.        , 0.33789397,\n",
       "        0.        , 0.        , 0.17632709, 0.        , 0.        ,\n",
       "        0.        , 0.        , 0.33789397, 0.        , 0.        ,\n",
       "        0.        , 0.        , 0.        , 0.        , 0.        ,\n",
       "        0.        , 0.        , 0.        , 0.        , 0.        ,\n",
       "        0.        , 0.        , 0.        , 0.        , 0.        ,\n",
       "        0.26639949, 0.        , 0.        , 0.        , 0.        ,\n",
       "        0.        , 0.        , 0.        , 0.        , 0.        ,\n",
       "        0.        , 0.        , 0.        , 0.        , 0.        ,\n",
       "        0.        , 0.        , 0.        , 0.        , 0.        ,\n",
       "        0.26639949, 0.26639949, 0.        , 0.        , 0.        ,\n",
       "        0.        , 0.        , 0.        , 0.        , 0.        ,\n",
       "        0.        , 0.        , 0.        , 0.33789397, 0.33789397,\n",
       "        0.        , 0.        , 0.        , 0.        , 0.        ,\n",
       "        0.        , 0.        , 0.        , 0.        , 0.        ,\n",
       "        0.        , 0.        , 0.        , 0.        , 0.        ,\n",
       "        0.        , 0.        , 0.        , 0.        , 0.        ,\n",
       "        0.        , 0.        , 0.        , 0.26639949, 0.        ,\n",
       "        0.        , 0.        , 0.        , 0.        , 0.        ,\n",
       "        0.        , 0.        , 0.        , 0.        , 0.        ,\n",
       "        0.        , 0.        , 0.        , 0.        , 0.        ,\n",
       "        0.        , 0.        , 0.33789397],\n",
       "       [0.        , 0.        , 0.05854348, 0.05854348, 0.        ,\n",
       "        0.05854348, 0.05854348, 0.23249598, 0.05854348, 0.05854348,\n",
       "        0.05854348, 0.05854348, 0.        , 0.05854348, 0.05854348,\n",
       "        0.05854348, 0.05854348, 0.05854348, 0.05854348, 0.05854348,\n",
       "        0.05854348, 0.05854348, 0.05854348, 0.05854348, 0.05854348,\n",
       "        0.05854348, 0.05854348, 0.05854348, 0.05854348, 0.05854348,\n",
       "        0.        , 0.        , 0.05854348, 0.05854348, 0.05854348,\n",
       "        0.05854348, 0.05854348, 0.05854348, 0.05854348, 0.05854348,\n",
       "        0.05854348, 0.05854348, 0.05854348, 0.05854348, 0.05854348,\n",
       "        0.05854348, 0.05854348, 0.05854348, 0.11708696, 0.05854348,\n",
       "        0.        , 0.        , 0.05854348, 0.05854348, 0.        ,\n",
       "        0.05854348, 0.05854348, 0.05854348, 0.05854348, 0.        ,\n",
       "        0.05854348, 0.05854348, 0.        , 0.        , 0.        ,\n",
       "        0.05854348, 0.05854348, 0.29271741, 0.        , 0.05854348,\n",
       "        0.05854348, 0.05854348, 0.05854348, 0.11708696, 0.05854348,\n",
       "        0.        , 0.05854348, 0.05854348, 0.05854348, 0.05854348,\n",
       "        0.05854348, 0.05854348, 0.05854348, 0.05854348, 0.05854348,\n",
       "        0.05854348, 0.05854348, 0.05854348, 0.        , 0.        ,\n",
       "        0.05854348, 0.05854348, 0.70252177, 0.05854348, 0.05854348,\n",
       "        0.05854348, 0.11708696, 0.05854348, 0.17563044, 0.05854348,\n",
       "        0.05854348, 0.05854348, 0.05854348, 0.05854348, 0.05854348,\n",
       "        0.05854348, 0.11708696, 0.        ],\n",
       "       [0.        , 0.27276807, 0.        , 0.        , 0.        ,\n",
       "        0.        , 0.        , 0.28468339, 0.        , 0.        ,\n",
       "        0.        , 0.        , 0.        , 0.        , 0.        ,\n",
       "        0.        , 0.        , 0.        , 0.        , 0.        ,\n",
       "        0.        , 0.        , 0.        , 0.        , 0.        ,\n",
       "        0.        , 0.        , 0.        , 0.        , 0.        ,\n",
       "        0.21505348, 0.27276807, 0.        , 0.        , 0.        ,\n",
       "        0.        , 0.        , 0.        , 0.        , 0.        ,\n",
       "        0.        , 0.        , 0.        , 0.        , 0.        ,\n",
       "        0.        , 0.        , 0.        , 0.        , 0.        ,\n",
       "        0.21505348, 0.43010696, 0.        , 0.        , 0.27276807,\n",
       "        0.        , 0.        , 0.        , 0.        , 0.27276807,\n",
       "        0.        , 0.        , 0.27276807, 0.        , 0.        ,\n",
       "        0.        , 0.        , 0.        , 0.27276807, 0.        ,\n",
       "        0.        , 0.        , 0.        , 0.        , 0.        ,\n",
       "        0.27276807, 0.        , 0.        , 0.        , 0.        ,\n",
       "        0.        , 0.        , 0.        , 0.        , 0.        ,\n",
       "        0.        , 0.        , 0.        , 0.21505348, 0.27276807,\n",
       "        0.        , 0.        , 0.        , 0.        , 0.        ,\n",
       "        0.        , 0.        , 0.        , 0.        , 0.        ,\n",
       "        0.        , 0.        , 0.        , 0.        , 0.        ,\n",
       "        0.        , 0.        , 0.        ]])"
      ]
     },
     "execution_count": 11,
     "metadata": {},
     "output_type": "execute_result"
    }
   ],
   "source": [
    "vectors"
   ]
  },
  {
   "cell_type": "code",
   "execution_count": 12,
   "metadata": {},
   "outputs": [],
   "source": [
    "s_vectors = list(zip(student_files,vectors))"
   ]
  },
  {
   "cell_type": "code",
   "execution_count": 13,
   "metadata": {},
   "outputs": [
    {
     "data": {
      "text/plain": [
       "[('Sample 1.txt',\n",
       "  array([0.        , 0.        , 0.05854348, 0.05854348, 0.        ,\n",
       "         0.05854348, 0.05854348, 0.23249598, 0.05854348, 0.05854348,\n",
       "         0.05854348, 0.05854348, 0.        , 0.05854348, 0.05854348,\n",
       "         0.05854348, 0.05854348, 0.05854348, 0.05854348, 0.05854348,\n",
       "         0.05854348, 0.05854348, 0.05854348, 0.05854348, 0.05854348,\n",
       "         0.05854348, 0.05854348, 0.05854348, 0.05854348, 0.05854348,\n",
       "         0.        , 0.        , 0.05854348, 0.05854348, 0.05854348,\n",
       "         0.05854348, 0.05854348, 0.05854348, 0.05854348, 0.05854348,\n",
       "         0.05854348, 0.05854348, 0.05854348, 0.05854348, 0.05854348,\n",
       "         0.05854348, 0.05854348, 0.05854348, 0.11708696, 0.05854348,\n",
       "         0.        , 0.        , 0.05854348, 0.05854348, 0.        ,\n",
       "         0.05854348, 0.05854348, 0.05854348, 0.05854348, 0.        ,\n",
       "         0.05854348, 0.05854348, 0.        , 0.        , 0.        ,\n",
       "         0.05854348, 0.05854348, 0.29271741, 0.        , 0.05854348,\n",
       "         0.05854348, 0.05854348, 0.05854348, 0.11708696, 0.05854348,\n",
       "         0.        , 0.05854348, 0.05854348, 0.05854348, 0.05854348,\n",
       "         0.05854348, 0.05854348, 0.05854348, 0.05854348, 0.05854348,\n",
       "         0.05854348, 0.05854348, 0.05854348, 0.        , 0.        ,\n",
       "         0.05854348, 0.05854348, 0.70252177, 0.05854348, 0.05854348,\n",
       "         0.05854348, 0.11708696, 0.05854348, 0.17563044, 0.05854348,\n",
       "         0.05854348, 0.05854348, 0.05854348, 0.05854348, 0.05854348,\n",
       "         0.05854348, 0.11708696, 0.        ])),\n",
       " ('Sample 2.txt',\n",
       "  array([0.33789397, 0.        , 0.        , 0.        , 0.33789397,\n",
       "         0.        , 0.        , 0.17632709, 0.        , 0.        ,\n",
       "         0.        , 0.        , 0.33789397, 0.        , 0.        ,\n",
       "         0.        , 0.        , 0.        , 0.        , 0.        ,\n",
       "         0.        , 0.        , 0.        , 0.        , 0.        ,\n",
       "         0.        , 0.        , 0.        , 0.        , 0.        ,\n",
       "         0.26639949, 0.        , 0.        , 0.        , 0.        ,\n",
       "         0.        , 0.        , 0.        , 0.        , 0.        ,\n",
       "         0.        , 0.        , 0.        , 0.        , 0.        ,\n",
       "         0.        , 0.        , 0.        , 0.        , 0.        ,\n",
       "         0.26639949, 0.26639949, 0.        , 0.        , 0.        ,\n",
       "         0.        , 0.        , 0.        , 0.        , 0.        ,\n",
       "         0.        , 0.        , 0.        , 0.33789397, 0.33789397,\n",
       "         0.        , 0.        , 0.        , 0.        , 0.        ,\n",
       "         0.        , 0.        , 0.        , 0.        , 0.        ,\n",
       "         0.        , 0.        , 0.        , 0.        , 0.        ,\n",
       "         0.        , 0.        , 0.        , 0.        , 0.        ,\n",
       "         0.        , 0.        , 0.        , 0.26639949, 0.        ,\n",
       "         0.        , 0.        , 0.        , 0.        , 0.        ,\n",
       "         0.        , 0.        , 0.        , 0.        , 0.        ,\n",
       "         0.        , 0.        , 0.        , 0.        , 0.        ,\n",
       "         0.        , 0.        , 0.33789397])),\n",
       " ('sample 3.txt',\n",
       "  array([0.        , 0.        , 0.05854348, 0.05854348, 0.        ,\n",
       "         0.05854348, 0.05854348, 0.23249598, 0.05854348, 0.05854348,\n",
       "         0.05854348, 0.05854348, 0.        , 0.05854348, 0.05854348,\n",
       "         0.05854348, 0.05854348, 0.05854348, 0.05854348, 0.05854348,\n",
       "         0.05854348, 0.05854348, 0.05854348, 0.05854348, 0.05854348,\n",
       "         0.05854348, 0.05854348, 0.05854348, 0.05854348, 0.05854348,\n",
       "         0.        , 0.        , 0.05854348, 0.05854348, 0.05854348,\n",
       "         0.05854348, 0.05854348, 0.05854348, 0.05854348, 0.05854348,\n",
       "         0.05854348, 0.05854348, 0.05854348, 0.05854348, 0.05854348,\n",
       "         0.05854348, 0.05854348, 0.05854348, 0.11708696, 0.05854348,\n",
       "         0.        , 0.        , 0.05854348, 0.05854348, 0.        ,\n",
       "         0.05854348, 0.05854348, 0.05854348, 0.05854348, 0.        ,\n",
       "         0.05854348, 0.05854348, 0.        , 0.        , 0.        ,\n",
       "         0.05854348, 0.05854348, 0.29271741, 0.        , 0.05854348,\n",
       "         0.05854348, 0.05854348, 0.05854348, 0.11708696, 0.05854348,\n",
       "         0.        , 0.05854348, 0.05854348, 0.05854348, 0.05854348,\n",
       "         0.05854348, 0.05854348, 0.05854348, 0.05854348, 0.05854348,\n",
       "         0.05854348, 0.05854348, 0.05854348, 0.        , 0.        ,\n",
       "         0.05854348, 0.05854348, 0.70252177, 0.05854348, 0.05854348,\n",
       "         0.05854348, 0.11708696, 0.05854348, 0.17563044, 0.05854348,\n",
       "         0.05854348, 0.05854348, 0.05854348, 0.05854348, 0.05854348,\n",
       "         0.05854348, 0.11708696, 0.        ])),\n",
       " ('sample 4.txt',\n",
       "  array([0.        , 0.27276807, 0.        , 0.        , 0.        ,\n",
       "         0.        , 0.        , 0.28468339, 0.        , 0.        ,\n",
       "         0.        , 0.        , 0.        , 0.        , 0.        ,\n",
       "         0.        , 0.        , 0.        , 0.        , 0.        ,\n",
       "         0.        , 0.        , 0.        , 0.        , 0.        ,\n",
       "         0.        , 0.        , 0.        , 0.        , 0.        ,\n",
       "         0.21505348, 0.27276807, 0.        , 0.        , 0.        ,\n",
       "         0.        , 0.        , 0.        , 0.        , 0.        ,\n",
       "         0.        , 0.        , 0.        , 0.        , 0.        ,\n",
       "         0.        , 0.        , 0.        , 0.        , 0.        ,\n",
       "         0.21505348, 0.43010696, 0.        , 0.        , 0.27276807,\n",
       "         0.        , 0.        , 0.        , 0.        , 0.27276807,\n",
       "         0.        , 0.        , 0.27276807, 0.        , 0.        ,\n",
       "         0.        , 0.        , 0.        , 0.27276807, 0.        ,\n",
       "         0.        , 0.        , 0.        , 0.        , 0.        ,\n",
       "         0.27276807, 0.        , 0.        , 0.        , 0.        ,\n",
       "         0.        , 0.        , 0.        , 0.        , 0.        ,\n",
       "         0.        , 0.        , 0.        , 0.21505348, 0.27276807,\n",
       "         0.        , 0.        , 0.        , 0.        , 0.        ,\n",
       "         0.        , 0.        , 0.        , 0.        , 0.        ,\n",
       "         0.        , 0.        , 0.        , 0.        , 0.        ,\n",
       "         0.        , 0.        , 0.        ]))]"
      ]
     },
     "execution_count": 13,
     "metadata": {},
     "output_type": "execute_result"
    }
   ],
   "source": [
    "s_vectors"
   ]
  },
  {
   "cell_type": "code",
   "execution_count": 38,
   "metadata": {},
   "outputs": [],
   "source": [
    "plagarism_results = set()"
   ]
  },
  {
   "cell_type": "code",
   "execution_count": 39,
   "metadata": {},
   "outputs": [],
   "source": [
    "def check_plagiarism():\n",
    "    global s_vectors\n",
    "    for student_a,text_vector_a in s_vectors:\n",
    "        new_vectors = s_vectors.copy()\n",
    "        current_index = new_vectors.index((student_a,text_vector_a))\n",
    "        #print(current_index)\n",
    "        for student_b,text_vector_b in new_vectors:\n",
    "            sim_score = similarity(text_vector_a,text_vector_b)[0][1]\n",
    "            student_pair = sorted((student_a,student_b))\n",
    "            #print(similarity(text_vector_a,text_vector_b))\n",
    "            #print(student_pair)\n",
    "            score = (student_pair[0],student_pair[1],sim_score)\n",
    "            plagarism_results.add(score)\n",
    "            \n",
    "    return plagarism_results\n"
   ]
  },
  {
   "cell_type": "code",
   "execution_count": 40,
   "metadata": {},
   "outputs": [
    {
     "name": "stdout",
     "output_type": "stream",
     "text": [
      "('sample 3.txt', 'sample 4.txt', 0.06618774467519122)\n",
      "('Sample 1.txt', 'sample 3.txt', 1.0000000000000004)\n",
      "('Sample 2.txt', 'sample 4.txt', 0.33664807941867536)\n",
      "('Sample 2.txt', 'sample 3.txt', 0.040995340205619554)\n",
      "('sample 3.txt', 'sample 3.txt', 1.0000000000000004)\n",
      "('sample 4.txt', 'sample 4.txt', 1.0000000000000002)\n",
      "('Sample 1.txt', 'Sample 1.txt', 1.0000000000000004)\n",
      "('Sample 2.txt', 'Sample 2.txt', 1.0)\n",
      "('Sample 1.txt', 'sample 4.txt', 0.06618774467519122)\n",
      "('Sample 1.txt', 'Sample 2.txt', 0.040995340205619554)\n"
     ]
    }
   ],
   "source": [
    "for data in check_plagiarism():\n",
    "    print(data)"
   ]
  },
  {
   "cell_type": "code",
   "execution_count": 41,
   "metadata": {},
   "outputs": [],
   "source": [
    "## Here sample 1.txt and sample 3.txt has same text in it, hence the plagiarism \n",
    "## score is 100%."
   ]
  },
  {
   "cell_type": "code",
   "execution_count": null,
   "metadata": {},
   "outputs": [],
   "source": []
  }
 ],
 "metadata": {
  "kernelspec": {
   "display_name": "Python 3",
   "language": "python",
   "name": "python3"
  },
  "language_info": {
   "codemirror_mode": {
    "name": "ipython",
    "version": 3
   },
   "file_extension": ".py",
   "mimetype": "text/x-python",
   "name": "python",
   "nbconvert_exporter": "python",
   "pygments_lexer": "ipython3",
   "version": "3.7.3"
  }
 },
 "nbformat": 4,
 "nbformat_minor": 2
}
